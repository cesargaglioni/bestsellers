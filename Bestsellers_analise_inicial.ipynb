{
  "nbformat": 4,
  "nbformat_minor": 0,
  "metadata": {
    "colab": {
      "provenance": []
    },
    "kernelspec": {
      "name": "python3",
      "display_name": "Python 3"
    },
    "language_info": {
      "name": "python"
    }
  },
  "cells": [
    {
      "cell_type": "markdown",
      "source": [
        "# Reunindo os dados"
      ],
      "metadata": {
        "id": "8FmLA-ZPY2TU"
      }
    },
    {
      "cell_type": "code",
      "execution_count": 5,
      "metadata": {
        "colab": {
          "base_uri": "https://localhost:8080/"
        },
        "id": "N85Uxx7iYWTg",
        "outputId": "20630093-babd-4c1f-9bbc-7c584a2ce6f1"
      },
      "outputs": [
        {
          "output_type": "stream",
          "name": "stdout",
          "text": [
            "                                         titulo              autor_vendas  \\\n",
            "0                             É assim que acaba            Colleen Hoover   \n",
            "1                      Mais esperto que o diabo             Napoleon Hill   \n",
            "2                         Nas pegadas da alemoa                Ilko Minev   \n",
            "3  Mulheres que correm com os lobos (capa dura)    Clarissa Pinkola Estes   \n",
            "4                                 Amor & gelato         Jenna Evans Welch   \n",
            "5                            É assim que começa            Colleen Hoover   \n",
            "6                                   Torto arado      Itamar Vieira Junior   \n",
            "7              O poder da autorresponsabilidade              Paulo Vieira   \n",
            "8                               O poder da cura  Padre Reginaldo Manzotti   \n",
            "9                Os sete maridos de Evelyn Hugo       Taylor Jenkins Reid   \n",
            "\n",
            "         editora   categoria  páginas   vendas autor  paginas  \n",
            "0  Galera Record      Ficção    368.0  127.884   NaN      NaN  \n",
            "1        Citadel   Autoajuda    200.0   95.102   NaN      NaN  \n",
            "2           Buzz      Ficção    176.0   90.273   NaN      NaN  \n",
            "3          Rocco  Não ficção    576.0   70.924   NaN      NaN  \n",
            "4     Intrínseca      Ficção    320.0   69.170   NaN      NaN  \n",
            "5  Galera Record      Ficção    336.0   67.494   NaN      NaN  \n",
            "6        Todavia      Ficção    264.0   57.156   NaN      NaN  \n",
            "7          Gente    Negócios    160.0   55.514   NaN      NaN  \n",
            "8          Petra   Autoajuda    176.0   52.358   NaN      NaN  \n",
            "9       Paralela      Ficção    360.0   50.378   NaN      NaN  \n"
          ]
        }
      ],
      "source": [
        "import pandas as pd\n",
        "\n",
        "# Lista com os anos de interesse\n",
        "anos = [2022, 2021, 2020, 2019, 2018]\n",
        "\n",
        "# Lista para armazenar os DataFrames de cada arquivo\n",
        "dataframes = []\n",
        "\n",
        "# Loop pelos anos e cria um DataFrame para cada arquivo\n",
        "for ano in anos:\n",
        "    # Monta o nome do arquivo com base no ano\n",
        "    nome_arquivo = f\"{ano}.csv\"\n",
        "    \n",
        "    # Lê o arquivo CSV em um DataFrame\n",
        "    df = pd.read_csv(nome_arquivo, encoding='utf-8')\n",
        "    \n",
        "    # Adiciona o DataFrame à lista\n",
        "    dataframes.append(df)\n",
        "\n",
        "# Concatena todos os DataFrames em um único DataFrame\n",
        "livros = pd.concat(dataframes, ignore_index=True)\n",
        "\n",
        "\n",
        "print(livros.head(10))"
      ]
    },
    {
      "cell_type": "markdown",
      "source": [
        "# Análises iniciais"
      ],
      "metadata": {
        "id": "tx4LySINY561"
      }
    },
    {
      "cell_type": "code",
      "source": [
        "# Calcula o número total de vendas de todos os livros\n",
        "total_vendas = livros['vendas'].sum()\n",
        "print(f'Total de vendas de todos os livros: {total_vendas}')\n",
        "\n",
        "# Calcula o número de livros por categoria\n",
        "livros_por_categoria = livros.groupby('categoria')['titulo'].count().sort_values(ascending=False)\n",
        "print('Número de livros por categoria:')\n",
        "print(livros_por_categoria)\n",
        "print(\"\")\n",
        "\n",
        "# Calcula a média e o desvio padrão do número de páginas dos livros\n",
        "media_paginas = livros['paginas'].mean()\n",
        "desvio_padrao_paginas = livros['paginas'].std()\n",
        "print(f'Média do número de páginas: {media_paginas:.2f}')\n",
        "print(f'Desvio padrão do número de páginas: {desvio_padrao_paginas:.2f}')\n",
        "print(\"\")\n",
        "\n",
        "# Calcula o número de livros por editora\n",
        "livros_por_editora = livros.groupby('editora')['titulo'].count().sort_values(ascending=False)\n",
        "print('Número de livros por editora:')\n",
        "print(livros_por_editora)"
      ],
      "metadata": {
        "colab": {
          "base_uri": "https://localhost:8080/"
        },
        "id": "zev1fh-nY5FC",
        "outputId": "51e4e014-103a-450d-a97c-da4a93382f31"
      },
      "execution_count": 17,
      "outputs": [
        {
          "output_type": "stream",
          "name": "stdout",
          "text": [
            "Total de vendas de todos os livros: 7835.216\n",
            "Número de livros por categoria:\n",
            "categoria\n",
            "Negócios          28\n",
            "Autoajuda         27\n",
            "Ficção            22\n",
            "Infantojuvenil    13\n",
            "Não ficção        10\n",
            "Name: titulo, dtype: int64\n",
            "\n",
            "Média do número de páginas: 259.73\n",
            "Desvio padrão do número de páginas: 124.12\n",
            "\n",
            "Número de livros por editora:\n",
            "editora\n",
            "Intrínseca              10\n",
            "Sextante                10\n",
            "Gente                    9\n",
            "Objetiva                 7\n",
            "Citadel                  5\n",
            "Rocco                    5\n",
            "HarperCollins            5\n",
            "Buzz                     5\n",
            "Seguinte                 4\n",
            "BestSeller               4\n",
            "Pixel                    4\n",
            "Faro Editorial           4\n",
            "Companhia das Letras     3\n",
            "Petra                    3\n",
            "Galera Record            3\n",
            "Alta Books Editora       3\n",
            "Todavia                  2\n",
            "Vozes                    2\n",
            "Paralela                 2\n",
            "L&PM                     2\n",
            "Arqueiro                 2\n",
            "Planeta do Brasil        1\n",
            "Globo Livros             1\n",
            "Globo Alt                1\n",
            "Ciranda Cultural         1\n",
            "Universo dos Livros      1\n",
            "Academia                 1\n",
            "Name: titulo, dtype: int64\n"
          ]
        }
      ]
    },
    {
      "cell_type": "markdown",
      "source": [
        "# Vendas ano a ano\n"
      ],
      "metadata": {
        "id": "bSLAZrgQcN65"
      }
    },
    {
      "cell_type": "code",
      "source": [
        "import matplotlib.pyplot as plt\n",
        "\n",
        "# Lista de arquivos CSV com dados de vendas\n",
        "arquivos_csv = ['2018.csv', '2019.csv', '2020.csv', '2021.csv', '2022.csv']\n",
        "\n",
        "# Cria uma lista vazia para armazenar as somas de vendas de cada ano\n",
        "somas_vendas = []\n",
        "\n",
        "# Itera sobre os arquivos CSV e soma as vendas de cada um\n",
        "for arquivo in arquivos_csv:\n",
        "    df = pd.read_csv(arquivo)\n",
        "    soma_vendas = df['vendas'].sum()\n",
        "    somas_vendas.append(soma_vendas)\n",
        "\n",
        "# Cria uma lista com os anos correspondentes a cada soma de vendas\n",
        "anos = [int(arquivo.split('.')[0]) for arquivo in arquivos_csv]\n",
        "\n",
        "# Plota o gráfico de evolução no número de vendas ao longo do tempo\n",
        "plt.plot(anos, somas_vendas)\n",
        "plt.title('Evolução no número de vendas de livros')\n",
        "plt.xlabel('Ano')\n",
        "plt.ylabel('Vendas (em milhões)')\n",
        "\n",
        "\n",
        "plt.show()"
      ],
      "metadata": {
        "colab": {
          "base_uri": "https://localhost:8080/",
          "height": 295
        },
        "id": "lsgd9Et4cPFi",
        "outputId": "6608b645-5c2d-479e-dce9-6911811b4ab3"
      },
      "execution_count": 33,
      "outputs": [
        {
          "output_type": "display_data",
          "data": {
            "text/plain": [
              "<Figure size 432x288 with 1 Axes>"
            ],
            "image/png": "[encoded data removed]"
          },
          "metadata": {
            "needs_background": "light"
          }
        }
      ]
    },
    {
      "cell_type": "markdown",
      "source": [
        "O eixo X foi dividido em ano.0 e ano.5, correspondente a cada semestre ano. Percebe-se que o primeiro semestre de 2020 -- correspondente ao início da pandemia da covid-19 -- teve o mínimo de vendas."
      ],
      "metadata": {
        "id": "U5LKuyjmfszL"
      }
    },
    {
      "cell_type": "code",
      "source": [],
      "metadata": {
        "id": "1u_tEhltf2dm"
      },
      "execution_count": null,
      "outputs": []
    }
  ]
}